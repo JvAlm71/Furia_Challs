{
  "cells": [
    {
      "cell_type": "code",
      "execution_count": null,
      "metadata": {
        "colab": {
          "base_uri": "https://localhost:8080/",
          "height": 477,
          "referenced_widgets": [
            "aa7a43154a5e46dd8181a3e15959d2d5",
            "6665ac252d1c4eac85329c51febc566e",
            "4ae2a43c8a9c47ac974ca3dd5c72b67a",
            "b987135ea70241f39f6265d43b2dbcc9",
            "838a33d296ca41c08dd906614bbd6697",
            "ac6c1be0d8c248f28ecac930d7b515f6",
            "a886b78c86e4430faeff285610c22950",
            "f13360123e7a4a53b562014b27edea2f",
            "99ff71c59ec1467a860c74ca46bbd802",
            "51a674dc8ce54d42b545399ba02f1ddb",
            "340afd20c4bc405c8929083aec452298",
            "575585c0649648eb8a770b8481f7bc85",
            "3b83d10f18a74516b22840bc6fb47a06",
            "4d352b6009ca42809b5f8607b6e5be5b",
            "8a959aea1b984dfba50115b3d00ec7bf",
            "a27c6f853dd34bef81eac675f6ade868",
            "368c5bb341794649a58375c29f38ec86",
            "21b79068778c44bbadbef455c402f285",
            "e946d45eaa854be18839dd18930b27a9",
            "b4f7d6e1ebbb46d898108a2b6edc5e63",
            "966e7e63d5e24691b84c086dc1c5ba5a",
            "47c7143f684447ea98f91a351e916e62",
            "6d084e8e739a4acc857da7309d8eab11"
          ]
        },
        "id": "NR4iuUuZdzAE",
        "outputId": "8738bac3-6566-47d0-e6ae-59ec5554a1e1"
      },
      "outputs": [
        {
          "name": "stdout",
          "output_type": "stream",
          "text": [
            "Note: you may need to restart the kernel to use updated packages.\n"
          ]
        },
        {
          "data": {
            "application/vnd.jupyter.widget-view+json": {
              "model_id": "8c6c063f428e4beba872f1105951fe06",
              "version_major": 2,
              "version_minor": 0
            },
            "text/plain": [
              "Text(value='', description='Nome:')"
            ]
          },
          "metadata": {},
          "output_type": "display_data"
        },
        {
          "data": {
            "application/vnd.jupyter.widget-view+json": {
              "model_id": "e0921f297354452f8515584e348cc419",
              "version_major": 2,
              "version_minor": 0
            },
            "text/plain": [
              "Text(value='', description='Email:')"
            ]
          },
          "metadata": {},
          "output_type": "display_data"
        },
        {
          "data": {
            "application/vnd.jupyter.widget-view+json": {
              "model_id": "bf365a1d179a44d08fbcb67a00841252",
              "version_major": 2,
              "version_minor": 0
            },
            "text/plain": [
              "Text(value='', description='CPF:')"
            ]
          },
          "metadata": {},
          "output_type": "display_data"
        },
        {
          "data": {
            "application/vnd.jupyter.widget-view+json": {
              "model_id": "6f6e5f4276584c8d83d4c113d4d01ce1",
              "version_major": 2,
              "version_minor": 0
            },
            "text/plain": [
              "Text(value='', description='Twitter/X:', placeholder='https://twitter.com/seu_usuario')"
            ]
          },
          "metadata": {},
          "output_type": "display_data"
        },
        {
          "data": {
            "application/vnd.jupyter.widget-view+json": {
              "model_id": "0a0d846ac46d4d20b86c12e524035111",
              "version_major": 2,
              "version_minor": 0
            },
            "text/plain": [
              "SelectMultiple(description='Interesses:', options=('Jogos', 'Merchandising', 'Eventos presenciais', 'Twitch/St…"
            ]
          },
          "metadata": {},
          "output_type": "display_data"
        },
        {
          "data": {
            "application/vnd.jupyter.widget-view+json": {
              "model_id": "ce51c41b90f84d0fb7edda8197e45671",
              "version_major": 2,
              "version_minor": 0
            },
            "text/plain": [
              "Textarea(value='', description='Descrição:', layout=Layout(height='100px', width='100%'), placeholder='Conte a…"
            ]
          },
          "metadata": {},
          "output_type": "display_data"
        },
        {
          "data": {
            "application/vnd.jupyter.widget-view+json": {
              "model_id": "0baed958c18c43b3889bcc89bc52f6e6",
              "version_major": 2,
              "version_minor": 0
            },
            "text/plain": [
              "Button(button_style='primary', description='Enviar', style=ButtonStyle())"
            ]
          },
          "metadata": {},
          "output_type": "display_data"
        },
        {
          "data": {
            "application/vnd.jupyter.widget-view+json": {
              "model_id": "7d8fb6b3dfcc4c488682756e957de5dc",
              "version_major": 2,
              "version_minor": 0
            },
            "text/plain": [
              "Output()"
            ]
          },
          "metadata": {},
          "output_type": "display_data"
        }
      ],
      "source": [
        "# 1) Instalação (se ainda não tiver)\n",
        "%pip install ipywidgets ipython-genutils --quiet\n",
        "\n",
        "# 2) Imports\n",
        "import re, json, os\n",
        "from IPython.display import display, clear_output\n",
        "import ipywidgets as widgets\n",
        "import ipywidgets\n",
        "from ipywidgets import Layout\n",
        "\n",
        "\n",
        "# 3) Campos de texto com validação\n",
        "nome = widgets.Text(description=\"Nome:\")\n",
        "email = widgets.Text(description=\"Email:\")\n",
        "cpf = widgets.Text(description=\"CPF:\")\n",
        "twitter = widgets.Text(\n",
        "    description=\"Twitter/X:\",\n",
        "    placeholder=\"https://twitter.com/seu_usuario\"\n",
        ")\n",
        "\n",
        "# 4) Outros widgets\n",
        "interesses = widgets.SelectMultiple(\n",
        "    options=[\n",
        "        \"Jogos\", \"Merchandising\", \"Eventos presenciais\",\n",
        "        \"Twitch/Streaming\", \"Campeonatos online\", \"Cosplay\",\n",
        "        \"Comunidades Discord\", \"Conteúdo no YouTube\"\n",
        "    ],\n",
        "    description=\"Interesses:\",\n",
        "    rows=6,\n",
        "    style={\"description_width\": \"initial\"},\n",
        ")\n",
        "\n",
        "descricao = widgets.Textarea(\n",
        "    placeholder=\"Conte aqui um pouco sobre você, o fã de e-sports…\",\n",
        "    description=\"Descrição:\",\n",
        "    layout=Layout(width=\"100%\", height=\"100px\"),  # Layout agora importado\n",
        "    style={\"description_width\": \"initial\"},\n",
        ")\n",
        "\n",
        "btn = widgets.Button(description=\"Enviar\", button_style=\"primary\")\n",
        "out = widgets.Output()\n",
        "\n",
        "DATA_FILE = 'fans_data.jsonl'\n",
        "\n",
        "# 5) Callback\n",
        "def on_submit(b):\n",
        "    with out:\n",
        "        clear_output()\n",
        "        if not re.match(r'^[A-Za-zÀ-ÖØ-öø-ÿ ]+$', nome.value):\n",
        "            print(\"❌ Nome inválido! Apenas letras e espaços.\")\n",
        "            return\n",
        "        if not re.match(r'^[^@]+@[^@]+\\.com$', email.value):\n",
        "            print(\"❌ Email inválido! Formato: nome@provedor.com\")\n",
        "            return\n",
        "        if not cpf.value.isdigit():\n",
        "            print(\"❌ CPF inválido! Apenas dígitos.\")\n",
        "            return\n",
        "\n",
        "        record = {\n",
        "            \"nome\": nome.value,\n",
        "            \"email\": email.value,\n",
        "            \"cpf\": cpf.value,\n",
        "            \"twitter\": twitter.value,\n",
        "            \"interesses\": list(interesses.value),\n",
        "            \"descricao\": descricao.value\n",
        "        }\n",
        "        with open(DATA_FILE, \"a\", encoding=\"utf-8\") as f:\n",
        "            json.dump(record, f, ensure_ascii=False)\n",
        "            f.write(\"\\n\")\n",
        "\n",
        "        print(\"✅ Gravado:\", record)\n",
        "\n",
        "btn.on_click(on_submit)\n",
        "\n",
        "# 6) Exibe o formulário\n",
        "display(nome, email, cpf, twitter, interesses, descricao, btn, out)\n"
      ]
    },
    {
      "cell_type": "markdown",
      "metadata": {
        "id": "3YysbUOgpVUZ"
      },
      "source": [
        "Verificar o banco de dados."
      ]
    },
    {
      "cell_type": "code",
      "execution_count": 6,
      "metadata": {
        "colab": {
          "base_uri": "https://localhost:8080/"
        },
        "id": "jhbDU2Xdnmmw",
        "outputId": "4f2424cc-8b46-4989-e225-9e6b9f1090d7"
      },
      "outputs": [
        {
          "name": "stdout",
          "output_type": "stream",
          "text": [
            "Registros carregados:\n",
            "[{'nome': 'João Victor de Almeida', 'email': 'victoralmeida71@hotmail.com', 'cpf': '47498873826', 'twitter': 'x.com/JottaAlmeidZ', 'interesses': ['Twitch/Streaming'], 'descricao': 'Gosto muito de esports, principalmente jogos como LoL e CS2. Apaixonado por games'}]\n",
            "Total de registros: 1\n"
          ]
        }
      ],
      "source": [
        "import json\n",
        "\n",
        "with open(\"fans_data.jsonl\", encoding=\"utf-8\") as f:\n",
        "    registros = [json.loads(linha) for linha in f]\n",
        "print(\"Registros carregados:\") \n",
        "print(registros)\n",
        "print(\"Total de registros:\", len(registros))"
      ]
    },
    {
      "cell_type": "markdown",
      "metadata": {
        "id": "gv82cUdipZHQ"
      },
      "source": [
        "Esvaziar os Dados dos usuários"
      ]
    },
    {
      "cell_type": "code",
      "execution_count": null,
      "metadata": {
        "id": "sUyow-GopcsJ"
      },
      "outputs": [],
      "source": [
        "# 1) Certifique-se de usar o mesmo caminho do arquivo\n",
        "DATA_FILE = 'fans_data.jsonl'  # ou '/content/fans_data.jsonl' se quiser ser explícito\n",
        "\n",
        "# 2) Abra em modo escrita e imediatamente feche — isso apaga tudo dentro\n",
        "with open(DATA_FILE, 'w', encoding='utf-8'):\n",
        "    pass\n",
        "\n",
        "print(f\"O arquivo {DATA_FILE} foi esvaziado.\")"
      ]
    },
    {
      "cell_type": "markdown",
      "metadata": {
        "id": "TzEktVmotGm8"
      },
      "source": [
        "Ronhecimento da foto, com meus dados da foto"
      ]
    },
    {
      "cell_type": "code",
      "execution_count": 7,
      "metadata": {
        "colab": {
          "base_uri": "https://localhost:8080/",
          "height": 106
        },
        "id": "va7PSx4JeR4-",
        "outputId": "18fcfda3-cf85-4b36-bc84-09242bcc0c02"
      },
      "outputs": [
        {
          "name": "stdout",
          "output_type": "stream",
          "text": [
            "Defaulting to user installation because normal site-packages is not writeable\n",
            "Collecting pytesseract\n",
            "  Downloading pytesseract-0.3.13-py3-none-any.whl.metadata (11 kB)\n",
            "Collecting face_recognition\n",
            "  Downloading face_recognition-1.3.0-py2.py3-none-any.whl.metadata (21 kB)\n",
            "Requirement already satisfied: ipywidgets in /home/baile/.local/lib/python3.10/site-packages (8.1.6)\n",
            "Requirement already satisfied: packaging>=21.3 in /home/baile/.local/lib/python3.10/site-packages (from pytesseract) (25.0)\n",
            "Requirement already satisfied: Pillow>=8.0.0 in /usr/lib/python3/dist-packages (from pytesseract) (9.0.1)\n",
            "Collecting face-recognition-models>=0.3.0 (from face_recognition)\n",
            "  Downloading face_recognition_models-0.3.0.tar.gz (100.1 MB)\n",
            "\u001b[2K     \u001b[38;2;249;38;114m━━━━━━━━━━━━━━━━━━━\u001b[0m\u001b[38;2;249;38;114m╸\u001b[0m\u001b[38;5;237m━━━━━━━━━━━━━━━━━━\u001b[0m \u001b[32m52.4/100.1 MB\u001b[0m \u001b[31m217.1 kB/s\u001b[0m eta \u001b[36m0:03:40\u001b[0m\n",
            "\u001b[?25h\u001b[33m  WARNING: Connection timed out while downloading.\u001b[0m\u001b[33m\n",
            "\u001b[0m\u001b[1;31merror\u001b[0m: \u001b[1mincomplete-download\u001b[0m\n",
            "\n",
            "\u001b[31m×\u001b[0m Download failed because not enough bytes were received (52.4 MB/100.1 MB)\n",
            "\u001b[31m╰─>\u001b[0m URL: \u001b[4;94mhttps://files.pythonhosted.org/packages/cf/3b/4fd8c534f6c0d1b80ce0973d01331525538045084c73c153ee6df20224cf/face_recognition_models-0.3.0.tar.gz\u001b[0m\n",
            "\n",
            "\u001b[1;35mnote\u001b[0m: This is an issue with network connectivity, not pip.\n",
            "\u001b[1;36mhint\u001b[0m: Consider using --resume-retries to enable download resumption.\n",
            "Note: you may need to restart the kernel to use updated packages.\n"
          ]
        },
        {
          "ename": "ModuleNotFoundError",
          "evalue": "No module named 'pytesseract'",
          "output_type": "error",
          "traceback": [
            "\u001b[0;31m---------------------------------------------------------------------------\u001b[0m",
            "\u001b[0;31mModuleNotFoundError\u001b[0m                       Traceback (most recent call last)",
            "Cell \u001b[0;32mIn[7], line 7\u001b[0m\n\u001b[1;32m      5\u001b[0m \u001b[38;5;28;01mimport\u001b[39;00m \u001b[38;5;21;01mre\u001b[39;00m\u001b[38;5;241m,\u001b[39m \u001b[38;5;21;01mjson\u001b[39;00m\u001b[38;5;241m,\u001b[39m \u001b[38;5;21;01mio\u001b[39;00m\u001b[38;5;241m,\u001b[39m \u001b[38;5;21;01mos\u001b[39;00m\n\u001b[1;32m      6\u001b[0m \u001b[38;5;28;01mfrom\u001b[39;00m \u001b[38;5;21;01mIPython\u001b[39;00m\u001b[38;5;21;01m.\u001b[39;00m\u001b[38;5;21;01mdisplay\u001b[39;00m \u001b[38;5;28;01mimport\u001b[39;00m display, clear_output\n\u001b[0;32m----> 7\u001b[0m \u001b[38;5;28;01mimport\u001b[39;00m \u001b[38;5;21;01mpytesseract\u001b[39;00m\u001b[38;5;241m,\u001b[39m \u001b[38;5;21;01mface_recognition\u001b[39;00m\n\u001b[1;32m      8\u001b[0m \u001b[38;5;28;01mfrom\u001b[39;00m \u001b[38;5;21;01mPIL\u001b[39;00m \u001b[38;5;28;01mimport\u001b[39;00m Image\n\u001b[1;32m      9\u001b[0m \u001b[38;5;28;01mimport\u001b[39;00m \u001b[38;5;21;01mipywidgets\u001b[39;00m \u001b[38;5;28;01mas\u001b[39;00m \u001b[38;5;21;01mwidgets\u001b[39;00m\n",
            "\u001b[0;31mModuleNotFoundError\u001b[0m: No module named 'pytesseract'"
          ]
        }
      ],
      "source": [
        "# 1) Instale os pacotes necessários (se ainda não tiver)\n",
        "%pip install pytesseract face_recognition ipywidgets --quiet\n",
        "\n",
        "# 2) Imports\n",
        "import re, json, io, os\n",
        "from IPython.display import display, clear_output\n",
        "import pytesseract, face_recognition\n",
        "from PIL import Image\n",
        "import ipywidgets as widgets\n",
        "\n",
        "# 3) Carrega registros existentes\n",
        "DATA_FILE = \"fans_data.jsonl\"\n",
        "records = []\n",
        "if os.path.exists(DATA_FILE):\n",
        "    with open(DATA_FILE, \"r\", encoding=\"utf-8\") as f:\n",
        "        for line in f:\n",
        "            try:\n",
        "                records.append(json.loads(line))\n",
        "            except:\n",
        "                pass\n",
        "\n",
        "\n",
        "upload_self  = widgets.FileUpload(accept='image/*', description=\"Selfie\")\n",
        "btn_verify   = widgets.Button(description=\"Verificar & Salvar\", button_style=\"primary\")\n",
        "out          = widgets.Output(layout=widgets.Layout(border='1px solid gray'))\n",
        "\n",
        "\n",
        "\n",
        "def on_verify(b):\n",
        "    with out:\n",
        "        clear_output()\n",
        "        cpf = cpf_input.value.strip()\n",
        "        if not upload_doc.value or not upload_self.value:\n",
        "            print(\"❌ Faça upload da foto do documento E da selfie.\")\n",
        "            return\n",
        "        doc_bytes  = list(upload_doc.value.values())[0]['content']\n",
        "        self_bytes = list(upload_self.value.values())[0]['content']\n",
        "\n",
        "        # OCR no documento (opcional, só pra conferência)\n",
        "        doc_text = pytesseract.image_to_string(Image.open(io.BytesIO(doc_bytes)))\n",
        "        print(\"🔍 Texto extraído do documento (para conferência):\")\n",
        "        print(doc_text.strip() or \"– nada extraído –\")\n",
        "\n",
        "        # Encodings faciais\n",
        "        enc_doc  = face_recognition.face_encodings(face_recognition.load_image_file(io.BytesIO(doc_bytes)))\n",
        "        enc_self = face_recognition.face_encodings(face_recognition.load_image_file(io.BytesIO(self_bytes)))\n",
        "        if not enc_doc or not enc_self:\n",
        "            print(\"❌ Não detectei rosto em uma das imagens.\")\n",
        "            return\n",
        "\n",
        "        match = face_recognition.compare_faces([enc_doc[0]], enc_self[0])[0]\n",
        "        print(f\"🤖 Reconhecimento facial: {'👍 Mesma pessoa' if match else '❌ Não corresponde'}\")\n",
        "\n",
        "        # Salva encoding da selfie no registro\n",
        "        rec[\"face_encoding\"] = enc_self[0].tolist()\n",
        "        # Reescreve todo o arquivo JSONL\n",
        "        with open(DATA_FILE, \"w\", encoding=\"utf-8\") as f:\n",
        "            for r in records:\n",
        "                f.write(json.dumps(r, ensure_ascii=False) + \"\\n\")\n",
        "\n",
        "        print(f\"✅ Face encoding salvo para CPF {cpf}\")\n",
        "\n",
        "# vincula callback\n",
        "btn_verify.on_click(on_verify)\n",
        "\n",
        "# 5) Exibe formulário\n",
        "display(\n",
        "    cpf_input,\n",
        "    upload_doc,\n",
        "    upload_self,\n",
        "    btn_verify,\n",
        "    out\n",
        ")"
      ]
    },
    {
      "cell_type": "code",
      "execution_count": null,
      "metadata": {
        "id": "FZg1DrTQetMf"
      },
      "outputs": [],
      "source": [
        "import tweepy\n",
        "\n",
        "auth = tweepy.OAuth1UserHandler(consumer_key, consumer_secret, callback=\"oob\")\n",
        "redirect_url = auth.get_authorization_url()\n",
        "print(\"Abra no navegador:\", redirect_url)\n",
        "\n",
        "verifier = input(\"Cole o PIN aqui: \")\n",
        "auth.get_access_token(verifier)\n",
        "api = tweepy.API(auth)\n",
        "tweets = api.user_timeline(count=20)\n",
        "for t in tweets:\n",
        "    print(\"-\", t.text)\n"
      ]
    },
    {
      "cell_type": "code",
      "execution_count": null,
      "metadata": {
        "id": "h_MLFhYQewiZ"
      },
      "outputs": [],
      "source": [
        "import requests\n",
        "from bs4 import BeautifulSoup\n",
        "from openai import OpenAI\n",
        "\n",
        "# Exemplo de scraping de perfil\n",
        "resp = requests.get(\"https://liquipedia.net/counterstrike/FURIA\")\n",
        "soup = BeautifulSoup(resp.text, \"html.parser\")\n",
        "print(\"Título da página:\", soup.title.string)\n",
        "\n",
        "# Prompt para validação\n",
        "client = OpenAI(api_key=\"…\")\n",
        "res = client.chat.completions.create(\n",
        "    model=\"gpt-3.5-turbo\",\n",
        "    messages=[\n",
        "        {\"role\":\"system\", \"content\":\"Você é…\"},\n",
        "        {\"role\":\"user\",   \"content\":\"Esse perfil evidencia Fan de esports FURIA? Responda sim ou não.\"}\n",
        "    ]\n",
        ")\n",
        "print(res.choices[0].message.content)\n"
      ]
    },
    {
      "cell_type": "code",
      "execution_count": null,
      "metadata": {
        "id": "AXWzQamjnYRo"
      },
      "outputs": [],
      "source": [
        "from google.colab import drive\n",
        "drive.mount('/content/drive')"
      ]
    }
  ],
  "metadata": {
    "colab": {
      "provenance": []
    },
    "kernelspec": {
      "display_name": "Python 3",
      "name": "python3"
    },
    "language_info": {
      "codemirror_mode": {
        "name": "ipython",
        "version": 3
      },
      "file_extension": ".py",
      "mimetype": "text/x-python",
      "name": "python",
      "nbconvert_exporter": "python",
      "pygments_lexer": "ipython3",
      "version": "3.10.12"
    },
    "widgets": {
      "application/vnd.jupyter.widget-state+json": {
        "21b79068778c44bbadbef455c402f285": {
          "model_module": "@jupyter-widgets/controls",
          "model_module_version": "1.5.0",
          "model_name": "DescriptionStyleModel",
          "state": {
            "_model_module": "@jupyter-widgets/controls",
            "_model_module_version": "1.5.0",
            "_model_name": "DescriptionStyleModel",
            "_view_count": null,
            "_view_module": "@jupyter-widgets/base",
            "_view_module_version": "1.2.0",
            "_view_name": "StyleView",
            "description_width": "initial"
          }
        },
        "340afd20c4bc405c8929083aec452298": {
          "model_module": "@jupyter-widgets/base",
          "model_module_version": "1.2.0",
          "model_name": "LayoutModel",
          "state": {
            "_model_module": "@jupyter-widgets/base",
            "_model_module_version": "1.2.0",
            "_model_name": "LayoutModel",
            "_view_count": null,
            "_view_module": "@jupyter-widgets/base",
            "_view_module_version": "1.2.0",
            "_view_name": "LayoutView",
            "align_content": null,
            "align_items": null,
            "align_self": null,
            "border": null,
            "bottom": null,
            "display": null,
            "flex": null,
            "flex_flow": null,
            "grid_area": null,
            "grid_auto_columns": null,
            "grid_auto_flow": null,
            "grid_auto_rows": null,
            "grid_column": null,
            "grid_gap": null,
            "grid_row": null,
            "grid_template_areas": null,
            "grid_template_columns": null,
            "grid_template_rows": null,
            "height": null,
            "justify_content": null,
            "justify_items": null,
            "left": null,
            "margin": null,
            "max_height": null,
            "max_width": null,
            "min_height": null,
            "min_width": null,
            "object_fit": null,
            "object_position": null,
            "order": null,
            "overflow": null,
            "overflow_x": null,
            "overflow_y": null,
            "padding": null,
            "right": null,
            "top": null,
            "visibility": null,
            "width": null
          }
        },
        "368c5bb341794649a58375c29f38ec86": {
          "model_module": "@jupyter-widgets/base",
          "model_module_version": "1.2.0",
          "model_name": "LayoutModel",
          "state": {
            "_model_module": "@jupyter-widgets/base",
            "_model_module_version": "1.2.0",
            "_model_name": "LayoutModel",
            "_view_count": null,
            "_view_module": "@jupyter-widgets/base",
            "_view_module_version": "1.2.0",
            "_view_name": "LayoutView",
            "align_content": null,
            "align_items": null,
            "align_self": null,
            "border": null,
            "bottom": null,
            "display": null,
            "flex": null,
            "flex_flow": null,
            "grid_area": null,
            "grid_auto_columns": null,
            "grid_auto_flow": null,
            "grid_auto_rows": null,
            "grid_column": null,
            "grid_gap": null,
            "grid_row": null,
            "grid_template_areas": null,
            "grid_template_columns": null,
            "grid_template_rows": null,
            "height": "100px",
            "justify_content": null,
            "justify_items": null,
            "left": null,
            "margin": null,
            "max_height": null,
            "max_width": null,
            "min_height": null,
            "min_width": null,
            "object_fit": null,
            "object_position": null,
            "order": null,
            "overflow": null,
            "overflow_x": null,
            "overflow_y": null,
            "padding": null,
            "right": null,
            "top": null,
            "visibility": null,
            "width": "100%"
          }
        },
        "3b83d10f18a74516b22840bc6fb47a06": {
          "model_module": "@jupyter-widgets/controls",
          "model_module_version": "1.5.0",
          "model_name": "SelectMultipleModel",
          "state": {
            "_dom_classes": [],
            "_model_module": "@jupyter-widgets/controls",
            "_model_module_version": "1.5.0",
            "_model_name": "SelectMultipleModel",
            "_options_labels": [
              "Jogos",
              "Merchandising",
              "Eventos presenciais",
              "Twitch/Streaming",
              "Campeonatos online",
              "Cosplay",
              "Comunidades Discord",
              "Conteúdo no YouTube"
            ],
            "_view_count": null,
            "_view_module": "@jupyter-widgets/controls",
            "_view_module_version": "1.5.0",
            "_view_name": "SelectMultipleView",
            "description": "Interesses:",
            "description_tooltip": null,
            "disabled": false,
            "index": [],
            "layout": "IPY_MODEL_4d352b6009ca42809b5f8607b6e5be5b",
            "rows": 6,
            "style": "IPY_MODEL_8a959aea1b984dfba50115b3d00ec7bf"
          }
        },
        "47c7143f684447ea98f91a351e916e62": {
          "model_module": "@jupyter-widgets/output",
          "model_module_version": "1.0.0",
          "model_name": "OutputModel",
          "state": {
            "_dom_classes": [],
            "_model_module": "@jupyter-widgets/output",
            "_model_module_version": "1.0.0",
            "_model_name": "OutputModel",
            "_view_count": null,
            "_view_module": "@jupyter-widgets/output",
            "_view_module_version": "1.0.0",
            "_view_name": "OutputView",
            "layout": "IPY_MODEL_6d084e8e739a4acc857da7309d8eab11",
            "msg_id": "",
            "outputs": [
              {
                "name": "stdout",
                "output_type": "stream",
                "text": [
                  "✅ Dados gravados em `fans_data.jsonl`:\n",
                  "{'nome': 'João Victor de Almeida', 'email': 'victoralmeida71@hotmail.com', 'cpf': '47498873826', 'twitter': 'x.com/jv_almeidzz', 'interesses': [], 'descricao': 'gosto muito de esports e lol'}\n"
                ]
              }
            ]
          }
        },
        "4ae2a43c8a9c47ac974ca3dd5c72b67a": {
          "model_module": "@jupyter-widgets/controls",
          "model_module_version": "1.5.0",
          "model_name": "DescriptionStyleModel",
          "state": {
            "_model_module": "@jupyter-widgets/controls",
            "_model_module_version": "1.5.0",
            "_model_name": "DescriptionStyleModel",
            "_view_count": null,
            "_view_module": "@jupyter-widgets/base",
            "_view_module_version": "1.2.0",
            "_view_name": "StyleView",
            "description_width": ""
          }
        },
        "4d352b6009ca42809b5f8607b6e5be5b": {
          "model_module": "@jupyter-widgets/base",
          "model_module_version": "1.2.0",
          "model_name": "LayoutModel",
          "state": {
            "_model_module": "@jupyter-widgets/base",
            "_model_module_version": "1.2.0",
            "_model_name": "LayoutModel",
            "_view_count": null,
            "_view_module": "@jupyter-widgets/base",
            "_view_module_version": "1.2.0",
            "_view_name": "LayoutView",
            "align_content": null,
            "align_items": null,
            "align_self": null,
            "border": null,
            "bottom": null,
            "display": null,
            "flex": null,
            "flex_flow": null,
            "grid_area": null,
            "grid_auto_columns": null,
            "grid_auto_flow": null,
            "grid_auto_rows": null,
            "grid_column": null,
            "grid_gap": null,
            "grid_row": null,
            "grid_template_areas": null,
            "grid_template_columns": null,
            "grid_template_rows": null,
            "height": null,
            "justify_content": null,
            "justify_items": null,
            "left": null,
            "margin": null,
            "max_height": null,
            "max_width": null,
            "min_height": null,
            "min_width": null,
            "object_fit": null,
            "object_position": null,
            "order": null,
            "overflow": null,
            "overflow_x": null,
            "overflow_y": null,
            "padding": null,
            "right": null,
            "top": null,
            "visibility": null,
            "width": null
          }
        },
        "51a674dc8ce54d42b545399ba02f1ddb": {
          "model_module": "@jupyter-widgets/controls",
          "model_module_version": "1.5.0",
          "model_name": "TextModel",
          "state": {
            "_dom_classes": [],
            "_model_module": "@jupyter-widgets/controls",
            "_model_module_version": "1.5.0",
            "_model_name": "TextModel",
            "_view_count": null,
            "_view_module": "@jupyter-widgets/controls",
            "_view_module_version": "1.5.0",
            "_view_name": "TextView",
            "continuous_update": true,
            "description": "Twitter/X:",
            "description_tooltip": null,
            "disabled": false,
            "layout": "IPY_MODEL_340afd20c4bc405c8929083aec452298",
            "placeholder": "https://twitter.com/seu_usuario",
            "style": "IPY_MODEL_575585c0649648eb8a770b8481f7bc85",
            "value": "x.com/jv_almeidzz"
          }
        },
        "575585c0649648eb8a770b8481f7bc85": {
          "model_module": "@jupyter-widgets/controls",
          "model_module_version": "1.5.0",
          "model_name": "DescriptionStyleModel",
          "state": {
            "_model_module": "@jupyter-widgets/controls",
            "_model_module_version": "1.5.0",
            "_model_name": "DescriptionStyleModel",
            "_view_count": null,
            "_view_module": "@jupyter-widgets/base",
            "_view_module_version": "1.2.0",
            "_view_name": "StyleView",
            "description_width": ""
          }
        },
        "6665ac252d1c4eac85329c51febc566e": {
          "model_module": "@jupyter-widgets/base",
          "model_module_version": "1.2.0",
          "model_name": "LayoutModel",
          "state": {
            "_model_module": "@jupyter-widgets/base",
            "_model_module_version": "1.2.0",
            "_model_name": "LayoutModel",
            "_view_count": null,
            "_view_module": "@jupyter-widgets/base",
            "_view_module_version": "1.2.0",
            "_view_name": "LayoutView",
            "align_content": null,
            "align_items": null,
            "align_self": null,
            "border": null,
            "bottom": null,
            "display": null,
            "flex": null,
            "flex_flow": null,
            "grid_area": null,
            "grid_auto_columns": null,
            "grid_auto_flow": null,
            "grid_auto_rows": null,
            "grid_column": null,
            "grid_gap": null,
            "grid_row": null,
            "grid_template_areas": null,
            "grid_template_columns": null,
            "grid_template_rows": null,
            "height": null,
            "justify_content": null,
            "justify_items": null,
            "left": null,
            "margin": null,
            "max_height": null,
            "max_width": null,
            "min_height": null,
            "min_width": null,
            "object_fit": null,
            "object_position": null,
            "order": null,
            "overflow": null,
            "overflow_x": null,
            "overflow_y": null,
            "padding": null,
            "right": null,
            "top": null,
            "visibility": null,
            "width": null
          }
        },
        "6d084e8e739a4acc857da7309d8eab11": {
          "model_module": "@jupyter-widgets/base",
          "model_module_version": "1.2.0",
          "model_name": "LayoutModel",
          "state": {
            "_model_module": "@jupyter-widgets/base",
            "_model_module_version": "1.2.0",
            "_model_name": "LayoutModel",
            "_view_count": null,
            "_view_module": "@jupyter-widgets/base",
            "_view_module_version": "1.2.0",
            "_view_name": "LayoutView",
            "align_content": null,
            "align_items": null,
            "align_self": null,
            "border": null,
            "bottom": null,
            "display": null,
            "flex": null,
            "flex_flow": null,
            "grid_area": null,
            "grid_auto_columns": null,
            "grid_auto_flow": null,
            "grid_auto_rows": null,
            "grid_column": null,
            "grid_gap": null,
            "grid_row": null,
            "grid_template_areas": null,
            "grid_template_columns": null,
            "grid_template_rows": null,
            "height": null,
            "justify_content": null,
            "justify_items": null,
            "left": null,
            "margin": null,
            "max_height": null,
            "max_width": null,
            "min_height": null,
            "min_width": null,
            "object_fit": null,
            "object_position": null,
            "order": null,
            "overflow": null,
            "overflow_x": null,
            "overflow_y": null,
            "padding": null,
            "right": null,
            "top": null,
            "visibility": null,
            "width": null
          }
        },
        "838a33d296ca41c08dd906614bbd6697": {
          "model_module": "@jupyter-widgets/base",
          "model_module_version": "1.2.0",
          "model_name": "LayoutModel",
          "state": {
            "_model_module": "@jupyter-widgets/base",
            "_model_module_version": "1.2.0",
            "_model_name": "LayoutModel",
            "_view_count": null,
            "_view_module": "@jupyter-widgets/base",
            "_view_module_version": "1.2.0",
            "_view_name": "LayoutView",
            "align_content": null,
            "align_items": null,
            "align_self": null,
            "border": null,
            "bottom": null,
            "display": null,
            "flex": null,
            "flex_flow": null,
            "grid_area": null,
            "grid_auto_columns": null,
            "grid_auto_flow": null,
            "grid_auto_rows": null,
            "grid_column": null,
            "grid_gap": null,
            "grid_row": null,
            "grid_template_areas": null,
            "grid_template_columns": null,
            "grid_template_rows": null,
            "height": null,
            "justify_content": null,
            "justify_items": null,
            "left": null,
            "margin": null,
            "max_height": null,
            "max_width": null,
            "min_height": null,
            "min_width": null,
            "object_fit": null,
            "object_position": null,
            "order": null,
            "overflow": null,
            "overflow_x": null,
            "overflow_y": null,
            "padding": null,
            "right": null,
            "top": null,
            "visibility": null,
            "width": null
          }
        },
        "8a959aea1b984dfba50115b3d00ec7bf": {
          "model_module": "@jupyter-widgets/controls",
          "model_module_version": "1.5.0",
          "model_name": "DescriptionStyleModel",
          "state": {
            "_model_module": "@jupyter-widgets/controls",
            "_model_module_version": "1.5.0",
            "_model_name": "DescriptionStyleModel",
            "_view_count": null,
            "_view_module": "@jupyter-widgets/base",
            "_view_module_version": "1.2.0",
            "_view_name": "StyleView",
            "description_width": "initial"
          }
        },
        "966e7e63d5e24691b84c086dc1c5ba5a": {
          "model_module": "@jupyter-widgets/controls",
          "model_module_version": "1.5.0",
          "model_name": "ButtonStyleModel",
          "state": {
            "_model_module": "@jupyter-widgets/controls",
            "_model_module_version": "1.5.0",
            "_model_name": "ButtonStyleModel",
            "_view_count": null,
            "_view_module": "@jupyter-widgets/base",
            "_view_module_version": "1.2.0",
            "_view_name": "StyleView",
            "button_color": null,
            "font_weight": ""
          }
        },
        "99ff71c59ec1467a860c74ca46bbd802": {
          "model_module": "@jupyter-widgets/controls",
          "model_module_version": "1.5.0",
          "model_name": "DescriptionStyleModel",
          "state": {
            "_model_module": "@jupyter-widgets/controls",
            "_model_module_version": "1.5.0",
            "_model_name": "DescriptionStyleModel",
            "_view_count": null,
            "_view_module": "@jupyter-widgets/base",
            "_view_module_version": "1.2.0",
            "_view_name": "StyleView",
            "description_width": ""
          }
        },
        "a27c6f853dd34bef81eac675f6ade868": {
          "model_module": "@jupyter-widgets/controls",
          "model_module_version": "1.5.0",
          "model_name": "TextareaModel",
          "state": {
            "_dom_classes": [],
            "_model_module": "@jupyter-widgets/controls",
            "_model_module_version": "1.5.0",
            "_model_name": "TextareaModel",
            "_view_count": null,
            "_view_module": "@jupyter-widgets/controls",
            "_view_module_version": "1.5.0",
            "_view_name": "TextareaView",
            "continuous_update": true,
            "description": "Descrição:",
            "description_tooltip": null,
            "disabled": false,
            "layout": "IPY_MODEL_368c5bb341794649a58375c29f38ec86",
            "placeholder": "Conte aqui um pouco sobre você, o fã de e-sports…",
            "rows": null,
            "style": "IPY_MODEL_21b79068778c44bbadbef455c402f285",
            "value": "gosto muito de esports e lol"
          }
        },
        "a886b78c86e4430faeff285610c22950": {
          "model_module": "@jupyter-widgets/controls",
          "model_module_version": "1.5.0",
          "model_name": "TextModel",
          "state": {
            "_dom_classes": [],
            "_model_module": "@jupyter-widgets/controls",
            "_model_module_version": "1.5.0",
            "_model_name": "TextModel",
            "_view_count": null,
            "_view_module": "@jupyter-widgets/controls",
            "_view_module_version": "1.5.0",
            "_view_name": "TextView",
            "continuous_update": true,
            "description": "CPF:",
            "description_tooltip": null,
            "disabled": false,
            "layout": "IPY_MODEL_f13360123e7a4a53b562014b27edea2f",
            "placeholder": "​",
            "style": "IPY_MODEL_99ff71c59ec1467a860c74ca46bbd802",
            "value": "47498873826"
          }
        },
        "aa7a43154a5e46dd8181a3e15959d2d5": {
          "model_module": "@jupyter-widgets/controls",
          "model_module_version": "1.5.0",
          "model_name": "TextModel",
          "state": {
            "_dom_classes": [],
            "_model_module": "@jupyter-widgets/controls",
            "_model_module_version": "1.5.0",
            "_model_name": "TextModel",
            "_view_count": null,
            "_view_module": "@jupyter-widgets/controls",
            "_view_module_version": "1.5.0",
            "_view_name": "TextView",
            "continuous_update": true,
            "description": "Nome:",
            "description_tooltip": null,
            "disabled": false,
            "layout": "IPY_MODEL_6665ac252d1c4eac85329c51febc566e",
            "placeholder": "​",
            "style": "IPY_MODEL_4ae2a43c8a9c47ac974ca3dd5c72b67a",
            "value": "João Victor de Almeida"
          }
        },
        "ac6c1be0d8c248f28ecac930d7b515f6": {
          "model_module": "@jupyter-widgets/controls",
          "model_module_version": "1.5.0",
          "model_name": "DescriptionStyleModel",
          "state": {
            "_model_module": "@jupyter-widgets/controls",
            "_model_module_version": "1.5.0",
            "_model_name": "DescriptionStyleModel",
            "_view_count": null,
            "_view_module": "@jupyter-widgets/base",
            "_view_module_version": "1.2.0",
            "_view_name": "StyleView",
            "description_width": ""
          }
        },
        "b4f7d6e1ebbb46d898108a2b6edc5e63": {
          "model_module": "@jupyter-widgets/base",
          "model_module_version": "1.2.0",
          "model_name": "LayoutModel",
          "state": {
            "_model_module": "@jupyter-widgets/base",
            "_model_module_version": "1.2.0",
            "_model_name": "LayoutModel",
            "_view_count": null,
            "_view_module": "@jupyter-widgets/base",
            "_view_module_version": "1.2.0",
            "_view_name": "LayoutView",
            "align_content": null,
            "align_items": null,
            "align_self": null,
            "border": null,
            "bottom": null,
            "display": null,
            "flex": null,
            "flex_flow": null,
            "grid_area": null,
            "grid_auto_columns": null,
            "grid_auto_flow": null,
            "grid_auto_rows": null,
            "grid_column": null,
            "grid_gap": null,
            "grid_row": null,
            "grid_template_areas": null,
            "grid_template_columns": null,
            "grid_template_rows": null,
            "height": null,
            "justify_content": null,
            "justify_items": null,
            "left": null,
            "margin": null,
            "max_height": null,
            "max_width": null,
            "min_height": null,
            "min_width": null,
            "object_fit": null,
            "object_position": null,
            "order": null,
            "overflow": null,
            "overflow_x": null,
            "overflow_y": null,
            "padding": null,
            "right": null,
            "top": null,
            "visibility": null,
            "width": null
          }
        },
        "b987135ea70241f39f6265d43b2dbcc9": {
          "model_module": "@jupyter-widgets/controls",
          "model_module_version": "1.5.0",
          "model_name": "TextModel",
          "state": {
            "_dom_classes": [],
            "_model_module": "@jupyter-widgets/controls",
            "_model_module_version": "1.5.0",
            "_model_name": "TextModel",
            "_view_count": null,
            "_view_module": "@jupyter-widgets/controls",
            "_view_module_version": "1.5.0",
            "_view_name": "TextView",
            "continuous_update": true,
            "description": "Email:",
            "description_tooltip": null,
            "disabled": false,
            "layout": "IPY_MODEL_838a33d296ca41c08dd906614bbd6697",
            "placeholder": "​",
            "style": "IPY_MODEL_ac6c1be0d8c248f28ecac930d7b515f6",
            "value": "victoralmeida71@hotmail.com"
          }
        },
        "e946d45eaa854be18839dd18930b27a9": {
          "model_module": "@jupyter-widgets/controls",
          "model_module_version": "1.5.0",
          "model_name": "ButtonModel",
          "state": {
            "_dom_classes": [],
            "_model_module": "@jupyter-widgets/controls",
            "_model_module_version": "1.5.0",
            "_model_name": "ButtonModel",
            "_view_count": null,
            "_view_module": "@jupyter-widgets/controls",
            "_view_module_version": "1.5.0",
            "_view_name": "ButtonView",
            "button_style": "primary",
            "description": "Enviar",
            "disabled": false,
            "icon": "",
            "layout": "IPY_MODEL_b4f7d6e1ebbb46d898108a2b6edc5e63",
            "style": "IPY_MODEL_966e7e63d5e24691b84c086dc1c5ba5a",
            "tooltip": ""
          }
        },
        "f13360123e7a4a53b562014b27edea2f": {
          "model_module": "@jupyter-widgets/base",
          "model_module_version": "1.2.0",
          "model_name": "LayoutModel",
          "state": {
            "_model_module": "@jupyter-widgets/base",
            "_model_module_version": "1.2.0",
            "_model_name": "LayoutModel",
            "_view_count": null,
            "_view_module": "@jupyter-widgets/base",
            "_view_module_version": "1.2.0",
            "_view_name": "LayoutView",
            "align_content": null,
            "align_items": null,
            "align_self": null,
            "border": null,
            "bottom": null,
            "display": null,
            "flex": null,
            "flex_flow": null,
            "grid_area": null,
            "grid_auto_columns": null,
            "grid_auto_flow": null,
            "grid_auto_rows": null,
            "grid_column": null,
            "grid_gap": null,
            "grid_row": null,
            "grid_template_areas": null,
            "grid_template_columns": null,
            "grid_template_rows": null,
            "height": null,
            "justify_content": null,
            "justify_items": null,
            "left": null,
            "margin": null,
            "max_height": null,
            "max_width": null,
            "min_height": null,
            "min_width": null,
            "object_fit": null,
            "object_position": null,
            "order": null,
            "overflow": null,
            "overflow_x": null,
            "overflow_y": null,
            "padding": null,
            "right": null,
            "top": null,
            "visibility": null,
            "width": null
          }
        }
      }
    }
  },
  "nbformat": 4,
  "nbformat_minor": 0
}
