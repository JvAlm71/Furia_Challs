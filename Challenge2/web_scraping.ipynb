{
 "cells": [
  {
   "cell_type": "code",
   "execution_count": 7,
   "id": "a97c12c7",
   "metadata": {},
   "outputs": [
    {
     "data": {
      "application/vnd.jupyter.widget-view+json": {
       "model_id": "815dc659382d4977a65d5a610e417cd1",
       "version_major": 2,
       "version_minor": 0
      },
      "text/plain": [
       "Text(value='', description='Nome:')"
      ]
     },
     "metadata": {},
     "output_type": "display_data"
    },
    {
     "data": {
      "application/vnd.jupyter.widget-view+json": {
       "model_id": "e487605c27814101af286b4e8e93897b",
       "version_major": 2,
       "version_minor": 0
      },
      "text/plain": [
       "Text(value='', description='Email:')"
      ]
     },
     "metadata": {},
     "output_type": "display_data"
    },
    {
     "data": {
      "application/vnd.jupyter.widget-view+json": {
       "model_id": "2b02381b80054decb256ab223c181371",
       "version_major": 2,
       "version_minor": 0
      },
      "text/plain": [
       "Text(value='', description='CPF:')"
      ]
     },
     "metadata": {},
     "output_type": "display_data"
    },
    {
     "data": {
      "application/vnd.jupyter.widget-view+json": {
       "model_id": "633db3e4fc744ace8c1f7c109cc1ec0e",
       "version_major": 2,
       "version_minor": 0
      },
      "text/plain": [
       "Text(value='', description='Twitter/X:', placeholder='https://twitter.com/seu_usuario')"
      ]
     },
     "metadata": {},
     "output_type": "display_data"
    },
    {
     "data": {
      "application/vnd.jupyter.widget-view+json": {
       "model_id": "3dffa0c1cf5946e5a198ebfa5823edfc",
       "version_major": 2,
       "version_minor": 0
      },
      "text/plain": [
       "SelectMultiple(description='Interesses:', options=('Jogos', 'Merchandising', 'Eventos presenciais', 'Twitch/St…"
      ]
     },
     "metadata": {},
     "output_type": "display_data"
    },
    {
     "data": {
      "application/vnd.jupyter.widget-view+json": {
       "model_id": "992f90414d0d4d1db4b9c2fe30c7c70b",
       "version_major": 2,
       "version_minor": 0
      },
      "text/plain": [
       "Textarea(value='', description='Descrição:', layout=Layout(height='100px', width='100%'), placeholder='Conte a…"
      ]
     },
     "metadata": {},
     "output_type": "display_data"
    },
    {
     "data": {
      "application/vnd.jupyter.widget-view+json": {
       "model_id": "bbc2c276f9894553976f9b8da51271f0",
       "version_major": 2,
       "version_minor": 0
      },
      "text/plain": [
       "Button(button_style='primary', description='Enviar', style=ButtonStyle())"
      ]
     },
     "metadata": {},
     "output_type": "display_data"
    },
    {
     "data": {
      "application/vnd.jupyter.widget-view+json": {
       "model_id": "0b73ec3e2c6541adb717abe4fe83eba0",
       "version_major": 2,
       "version_minor": 0
      },
      "text/plain": [
       "Output()"
      ]
     },
     "metadata": {},
     "output_type": "display_data"
    }
   ],
   "source": [
    "# 2) Imports\n",
    "import re, json, os\n",
    "from IPython.display import display, clear_output\n",
    "import ipywidgets as widgets\n",
    "import csv\n",
    "\n",
    "\n",
    "DATA_FILE = \"fans_data.csv\"\n",
    "# 3) Campos de texto com validação\n",
    "nome = widgets.Text(description=\"Nome:\")\n",
    "email = widgets.Text(description=\"Email:\")\n",
    "cpf = widgets.Text(description=\"CPF:\")\n",
    "twitter = widgets.Text(\n",
    "    description=\"Twitter/X:\",\n",
    "    placeholder=\"https://twitter.com/seu_usuario\"\n",
    ")\n",
    "\n",
    "# 4) Outros widgets\n",
    "interesses = widgets.SelectMultiple(\n",
    "    options=[\n",
    "        \"Jogos\", \"Merchandising\", \"Eventos presenciais\",\n",
    "        \"Twitch/Streaming\", \"Campeonatos online\", \"Cosplay\",\n",
    "        \"Comunidades Discord\", \"Conteúdo no YouTube\"\n",
    "    ],\n",
    "    description=\"Interesses:\",\n",
    "    rows=6,\n",
    "    style={\"description_width\": \"initial\"},\n",
    ")\n",
    "descricao = widgets.Textarea(\n",
    "    placeholder=\"Conte aqui um pouco sobre você, o fã de e-sports…\",\n",
    "    description=\"Descrição:\",\n",
    "    layout=widgets.Layout(width=\"100%\", height=\"100px\"),\n",
    "    style={\"description_width\": \"initial\"},\n",
    ")\n",
    "\n",
    "btn = widgets.Button(description=\"Enviar\", button_style=\"primary\")\n",
    "out = widgets.Output()\n",
    "\n",
    "\n",
    "# 6) Callback com validações e gravação em arquivo\n",
    "def on_submit(b):\n",
    "    with out:\n",
    "        clear_output()\n",
    "        # validações\n",
    "        if not re.match(r'^[A-Za-zÀ-ÖØ-öø-ÿ ]+$', nome.value):\n",
    "            print(\"❌ Nome inválido! Apenas letras e espaços.\")\n",
    "            return\n",
    "        if not re.match(r'^[^@]+@[^@]+\\.com$', email.value):\n",
    "            print(\"❌ Email inválido! Formato: algo@provedor.com\")\n",
    "            return\n",
    "        if not cpf.value.isdigit():\n",
    "            print(\"❌ CPF inválido! Apenas dígitos.\")\n",
    "            return\n",
    "\n",
    "        # monta registro\n",
    "        record = {\n",
    "            \"nome\": nome.value,\n",
    "            \"email\": email.value,\n",
    "            \"cpf\": cpf.value,\n",
    "            \"twitter\": twitter.value,\n",
    "            \"interesses\": list(interesses.value),\n",
    "            \"descricao\": descricao.value\n",
    "        }\n",
    "\n",
    "        write_header = not os.path.exists(DATA_FILE)\n",
    "        with open(DATA_FILE, \"a\", encoding=\"utf-8\", newline=\"\") as f:\n",
    "            writer = csv.DictWriter(f, fieldnames=record.keys())\n",
    "            if write_header:\n",
    "                writer.writeheader()\n",
    "            writer.writerow(record)\n",
    "\n",
    "        print(f\"✅ Dados gravados em `{DATA_FILE}`:\")\n",
    "        print(record)\n",
    "\n",
    "\n",
    "btn.on_click(on_submit)\n",
    "\n",
    "# 7) Exibe o formulário\n",
    "display(\n",
    "    nome, email, cpf, twitter,\n",
    "    interesses, descricao,\n",
    "    btn, out\n",
    ")"
   ]
  },
  {
   "cell_type": "markdown",
   "id": "37a9ff75",
   "metadata": {},
   "source": [
    "Verificando Banco de Dados"
   ]
  },
  {
   "cell_type": "code",
   "execution_count": 9,
   "id": "8323b0f7",
   "metadata": {},
   "outputs": [
    {
     "name": "stdout",
     "output_type": "stream",
     "text": [
      "[{'nome': 'João Victor de Almeida', 'email': 'victoralmeida71@hotmail.com', 'cpf': '47498873826', 'twitter': 'https://x.com/JottaAlmeidZ', 'interesses': \"['Jogos']\", 'descricao': 'Sempre gostei de videogames e tecnlogia. Apaixonado por E-sports, jogos competitivos sempre me encantaram. Jogos como Valorant, CS2 e LoL, são os que mais gosto. Esse amor por tecnologia me fez querer trabalhar na área, e hoje sou estudante de Engenharia de Computação. Sempre busco aprender mais sobre o mundo dos games e tecnologia, e estou sempre disposto a ajudar os outros com o que sei. Sou uma pessoa muito comunicativa e gosto de fazer amizades. Estou sempre disposto a ajudar os outros com o que sei. Sou uma pessoa muito comunicativa e gosto de fazer amizades. '}]\n"
     ]
    }
   ],
   "source": [
    "import csv\n",
    "\n",
    "with open(\"fans_data.csv\", newline=\"\", encoding=\"utf-8\") as f:\n",
    "    reader = csv.DictReader(f)\n",
    "    registros = list(reader)\n",
    "\n",
    "print(registros)"
   ]
  }
 ],
 "metadata": {
  "kernelspec": {
   "display_name": "Python 3",
   "language": "python",
   "name": "python3"
  },
  "language_info": {
   "codemirror_mode": {
    "name": "ipython",
    "version": 3
   },
   "file_extension": ".py",
   "mimetype": "text/x-python",
   "name": "python",
   "nbconvert_exporter": "python",
   "pygments_lexer": "ipython3",
   "version": "3.10.12"
  }
 },
 "nbformat": 4,
 "nbformat_minor": 5
}
